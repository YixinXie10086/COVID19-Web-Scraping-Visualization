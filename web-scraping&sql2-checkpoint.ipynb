{
 "cells": [
  {
   "cell_type": "markdown",
   "metadata": {},
   "source": [
    "## Getting data table for yesterday:"
   ]
  },
  {
   "cell_type": "markdown",
   "metadata": {},
   "source": [
    "## Importing packages:"
   ]
  },
  {
   "cell_type": "code",
   "execution_count": 1,
   "metadata": {},
   "outputs": [],
   "source": [
    "import requests #request the html page \n",
    "import pandas as pd\n",
    "import numpy as np\n",
    "from bs4 import BeautifulSoup\n",
    "import sqlalchemy as sqla"
   ]
  },
  {
   "cell_type": "markdown",
   "metadata": {},
   "source": [
    "## Using BeautifulSoup parse yesterday's online tables:"
   ]
  },
  {
   "cell_type": "code",
   "execution_count": 2,
   "metadata": {},
   "outputs": [],
   "source": [
    "url = 'https://www.worldometers.info/coronavirus/#countries' ###\n",
    "scraping_page = requests.get(url)\n",
    "scrapinghtml = scraping_page.text\n",
    "scrapingsoup = BeautifulSoup(scrapinghtml,'lxml')\n",
    "extract_table_today = scrapingsoup.find('table', id= 'main_table_countries_yesterday2')\n",
    "extract_table_data_today = extract_table_today.find_all(\"tr\")"
   ]
  },
  {
   "cell_type": "markdown",
   "metadata": {},
   "source": [
    "## Storing all data in list:"
   ]
  },
  {
   "cell_type": "code",
   "execution_count": 3,
   "metadata": {},
   "outputs": [],
   "source": [
    "deepthinker=[]\n",
    "content = []\n",
    "for i in range(9,len(extract_table_data_today)): \n",
    "        for j in range(len(extract_table_data_today[i].find_all(\"td\",href = False))):\n",
    "            content.append(extract_table_data_today[i].find_all(\"td\",href = False)[j].text)\n",
    "        deepthinker.append(content)\n",
    "        content=[]"
   ]
  },
  {
   "cell_type": "markdown",
   "metadata": {},
   "source": [
    "## Turning list into dataframe and match column names:"
   ]
  },
  {
   "cell_type": "code",
   "execution_count": 4,
   "metadata": {},
   "outputs": [],
   "source": [
    "dataframe_today = pd.DataFrame(deepthinker)\n",
    "def dataframe_organizer(df):\n",
    "    '''\n",
    "    This function takes in dataframe and match each column of the dataframe with corresponding column names.\n",
    "    Then, it drops irrelevant columns and set the column 'Country Name' as the index column.\n",
    "    Finally, return the processed dataframe.\n",
    "    '''\n",
    "    df = df.iloc[:222,:16]\n",
    "    col_names = ['index','Country Name','Total Cases','New Cases','Total Deaths','New Deaths','Total Recovered','unknown','Active Cases','Serious Critical','Tot cases/1M pop','Deaths/1M pop','Total Tests','Tests/1M pop','Population','Continent']\n",
    "    df.columns = col_names\n",
    "    df = df.drop(columns=['index', 'unknown'])\n",
    "    df = df.set_index(['Country Name'])\n",
    "    return df"
   ]
  },
  {
   "cell_type": "markdown",
   "metadata": {},
   "source": [
    "## Adding yesterday's date as column to the dataframe:"
   ]
  },
  {
   "cell_type": "code",
   "execution_count": 5,
   "metadata": {},
   "outputs": [],
   "source": [
    "from datetime import date, timedelta\n",
    "yesterday = str(date.today() - timedelta(days=2))\n",
    "yesterday = yesterday.replace(\"-\",'')\n",
    "df = dataframe_organizer(dataframe_today)\n",
    "df['date'] = [yesterday]*222"
   ]
  },
  {
   "cell_type": "code",
   "execution_count": 6,
   "metadata": {},
   "outputs": [],
   "source": [
    "###delete"
   ]
  },
  {
   "cell_type": "code",
   "execution_count": 7,
   "metadata": {},
   "outputs": [],
   "source": [
    "df.to_csv(yesterday[5:8]+'.csv')"
   ]
  },
  {
   "cell_type": "markdown",
   "metadata": {},
   "source": [
    "## Adding the dataframe to SQL database:"
   ]
  },
  {
   "cell_type": "code",
   "execution_count": 8,
   "metadata": {},
   "outputs": [],
   "source": [
    "sqlite_file='covid.sqlite'\n",
    "covid_engine = sqla.create_engine('sqlite:///'+sqlite_file)\n",
    "df.to_sql('date_table',con=covid_engine,if_exists='append')"
   ]
  },
  {
   "cell_type": "code",
   "execution_count": 9,
   "metadata": {},
   "outputs": [
    {
     "data": {
      "text/html": [
       "<div>\n",
       "<style scoped>\n",
       "    .dataframe tbody tr th:only-of-type {\n",
       "        vertical-align: middle;\n",
       "    }\n",
       "\n",
       "    .dataframe tbody tr th {\n",
       "        vertical-align: top;\n",
       "    }\n",
       "\n",
       "    .dataframe thead th {\n",
       "        text-align: right;\n",
       "    }\n",
       "</style>\n",
       "<table border=\"1\" class=\"dataframe\">\n",
       "  <thead>\n",
       "    <tr style=\"text-align: right;\">\n",
       "      <th></th>\n",
       "      <th>count(*)</th>\n",
       "    </tr>\n",
       "  </thead>\n",
       "  <tbody>\n",
       "    <tr>\n",
       "      <th>0</th>\n",
       "      <td>1998</td>\n",
       "    </tr>\n",
       "  </tbody>\n",
       "</table>\n",
       "</div>"
      ],
      "text/plain": [
       "   count(*)\n",
       "0      1998"
      ]
     },
     "execution_count": 9,
     "metadata": {},
     "output_type": "execute_result"
    }
   ],
   "source": [
    "pd.read_sql_query(\"select count(*) from date_table\",covid_engine)"
   ]
  }
 ],
 "metadata": {
  "kernelspec": {
   "display_name": "Python 3",
   "language": "python",
   "name": "python3"
  },
  "language_info": {
   "codemirror_mode": {
    "name": "ipython",
    "version": 3
   },
   "file_extension": ".py",
   "mimetype": "text/x-python",
   "name": "python",
   "nbconvert_exporter": "python",
   "pygments_lexer": "ipython3",
   "version": "3.8.5"
  }
 },
 "nbformat": 4,
 "nbformat_minor": 4
}
