{
 "cells": [
  {
   "cell_type": "markdown",
   "metadata": {},
   "source": [
    "## Getting data table for date 5/24-5/25:"
   ]
  },
  {
   "cell_type": "markdown",
   "metadata": {},
   "source": [
    "## importing packages:"
   ]
  },
  {
   "cell_type": "code",
   "execution_count": 13,
   "metadata": {},
   "outputs": [],
   "source": [
    "import requests #request the html page \n",
    "import pandas as pd\n",
    "import numpy as np\n",
    "from bs4 import BeautifulSoup\n",
    "import sqlalchemy as sqla"
   ]
  },
  {
   "cell_type": "markdown",
   "metadata": {},
   "source": [
    "## Using BeautifulSoup parse online tables:"
   ]
  },
  {
   "cell_type": "code",
   "execution_count": 14,
   "metadata": {},
   "outputs": [],
   "source": [
    "url = 'https://www.worldometers.info/coronavirus/#countries' ###\n",
    "scraping_page = requests.get(url)\n",
    "scrapinghtml = scraping_page.text\n",
    "scrapingsoup = BeautifulSoup(scrapinghtml,'lxml')"
   ]
  },
  {
   "cell_type": "code",
   "execution_count": 19,
   "metadata": {},
   "outputs": [],
   "source": [
    "extract_table_yesterday = scrapingsoup.find('table', id= 'main_table_countries_yesterday')\n",
    "extract_table_data_yesterday = extract_table_yesterday.find_all(\"tr\")\n",
    "\n",
    "extract_table_yesterday2 = scrapingsoup.find('table', id= 'main_table_countries_yesterday2')\n",
    "extract_table_data_yesterday2 = extract_table_yesterday2.find_all(\"tr\")\n",
    "date_list = [extract_table_data_yesterday,extract_table_data_yesterday2]"
   ]
  },
  {
   "cell_type": "markdown",
   "metadata": {},
   "source": [
    "## Storing all data in list:"
   ]
  },
  {
   "cell_type": "code",
   "execution_count": 20,
   "metadata": {},
   "outputs": [],
   "source": [
    "deepthinker=[[],[]]\n",
    "content=[]\n",
    "index = 0\n",
    "for date in date_list:\n",
    "    for i in range(9,len(date)): \n",
    "        #if nation_name != None:\n",
    "            for j in range(len(date[i].find_all(\"td\",href = False))):\n",
    "                content.append(date[i].find_all(\"td\",href = False)[j].text)\n",
    "            deepthinker[index].append(content)\n",
    "            content=[]\n",
    "    index+=1"
   ]
  },
  {
   "cell_type": "markdown",
   "metadata": {},
   "source": [
    "## Turning list into dataframe and match column names:"
   ]
  },
  {
   "cell_type": "code",
   "execution_count": 22,
   "metadata": {},
   "outputs": [],
   "source": [
    "dataframe_yesterday = pd.DataFrame(deepthinker[0])\n",
    "dataframe_yesterday2 = pd.DataFrame(deepthinker[1])\n",
    "def dataframe_organizer(df):\n",
    "    '''\n",
    "    This function takes in dataframe and match each column of the dataframe with corresponding column names.\n",
    "    Then, it drops irrelevant columns and set the column 'Country Name' as the index column.\n",
    "    Finally, return the processed dataframe.\n",
    "    '''\n",
    "    df = df.iloc[:222,:16]\n",
    "    col_names = ['index','Country Name','Total Cases','New Cases','Total Deaths','New Deaths','Total Recovered','unknown','Active Cases','Serious Critical','Tot cases/1M pop','Deaths/1M pop','Total Tests','Tests/1M pop','Population','Continent']\n",
    "    df.columns = col_names\n",
    "    df = df.drop(columns=['index', 'unknown'])\n",
    "    df = df.set_index(['Country Name'])\n",
    "    return df\n",
    "df_525 = dataframe_organizer(dataframe_yesterday)\n",
    "df_524 = dataframe_organizer(dataframe_yesterday2)\n",
    "df_525['date'] = ['20210525']*222  #We adding date column to the dataframe.\n",
    "df_524['date'] = ['20210524']*222  "
   ]
  },
  {
   "cell_type": "markdown",
   "metadata": {},
   "source": [
    "## Adding each dataframe to SQL database:"
   ]
  },
  {
   "cell_type": "code",
   "execution_count": 27,
   "metadata": {},
   "outputs": [],
   "source": [
    "sqlite_file='covid.sqlite'\n",
    "covid_engine = sqla.create_engine('sqlite:///'+sqlite_file)\n",
    "list_df = [df_525,df_524]\n",
    "for i in list_df:\n",
    "    i.to_sql('date_table',con=covid_engine,if_exists='append')   "
   ]
  }
 ],
 "metadata": {
  "kernelspec": {
   "display_name": "Python 3",
   "language": "python",
   "name": "python3"
  },
  "language_info": {
   "codemirror_mode": {
    "name": "ipython",
    "version": 3
   },
   "file_extension": ".py",
   "mimetype": "text/x-python",
   "name": "python",
   "nbconvert_exporter": "python",
   "pygments_lexer": "ipython3",
   "version": "3.8.5"
  }
 },
 "nbformat": 4,
 "nbformat_minor": 4
}
